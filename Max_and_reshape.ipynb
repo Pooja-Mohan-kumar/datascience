{
  "nbformat": 4,
  "nbformat_minor": 0,
  "metadata": {
    "colab": {
      "name": "Max and reshape.ipynb",
      "version": "0.3.2",
      "provenance": [],
      "collapsed_sections": []
    },
    "kernelspec": {
      "name": "python3",
      "display_name": "Python 3"
    }
  },
  "cells": [
    {
      "cell_type": "markdown",
      "metadata": {
        "id": "_IDfzPv8Ba-C",
        "colab_type": "text"
      },
      "source": [
        "class exercise\n",
        "\n",
        "write the code for the following matrix multiplication and visualize the same in tensorflow\n",
        "\n",
        "150   250   750\n",
        "500   600   800              *             [390  890      790]^ T\n",
        "900   200   450\n",
        "\n",
        "\n"
      ]
    },
    {
      "cell_type": "code",
      "metadata": {
        "id": "TvNVYVhxBY-e",
        "colab_type": "code",
        "colab": {}
      },
      "source": [
        "import tensorflow as tf"
      ],
      "execution_count": 0,
      "outputs": []
    },
    {
      "cell_type": "code",
      "metadata": {
        "id": "CyidFkH1CBGN",
        "colab_type": "code",
        "outputId": "83d8c9ed-9e77-4f98-efaa-f6cc1e18cf39",
        "colab": {
          "base_uri": "https://localhost:8080/",
          "height": 88
        }
      },
      "source": [
        "m1 = tf.Variable([[150,250,750],[500,600,800],[900,200,450]])"
      ],
      "execution_count": 0,
      "outputs": [
        {
          "output_type": "stream",
          "text": [
            "WARNING:tensorflow:From /usr/local/lib/python3.6/dist-packages/tensorflow/python/framework/op_def_library.py:263: colocate_with (from tensorflow.python.framework.ops) is deprecated and will be removed in a future version.\n",
            "Instructions for updating:\n",
            "Colocations handled automatically by placer.\n"
          ],
          "name": "stdout"
        }
      ]
    },
    {
      "cell_type": "code",
      "metadata": {
        "id": "Ku8TZhuBB7QY",
        "colab_type": "code",
        "colab": {}
      },
      "source": [
        "m2= tf.Variable([[390],[890],[790]])"
      ],
      "execution_count": 0,
      "outputs": []
    },
    {
      "cell_type": "code",
      "metadata": {
        "id": "4nbC-tlQDOcb",
        "colab_type": "code",
        "colab": {}
      },
      "source": [
        "sess=tf.Session()"
      ],
      "execution_count": 0,
      "outputs": []
    },
    {
      "cell_type": "code",
      "metadata": {
        "id": "sbSKVkE8DOWt",
        "colab_type": "code",
        "colab": {}
      },
      "source": [
        "init_op=tf.global_variables_initializer()"
      ],
      "execution_count": 0,
      "outputs": []
    },
    {
      "cell_type": "code",
      "metadata": {
        "id": "P_6mxlvlDORe",
        "colab_type": "code",
        "colab": {}
      },
      "source": [
        "sess.run(init_op)"
      ],
      "execution_count": 0,
      "outputs": []
    },
    {
      "cell_type": "code",
      "metadata": {
        "id": "18tPg8tuDOLX",
        "colab_type": "code",
        "outputId": "12e3b772-0be1-4290-f872-084aa563eb13",
        "colab": {
          "base_uri": "https://localhost:8080/",
          "height": 68
        }
      },
      "source": [
        "sess.run(m1)"
      ],
      "execution_count": 0,
      "outputs": [
        {
          "output_type": "execute_result",
          "data": {
            "text/plain": [
              "array([[150, 250, 750],\n",
              "       [500, 600, 800],\n",
              "       [900, 200, 450]], dtype=int32)"
            ]
          },
          "metadata": {
            "tags": []
          },
          "execution_count": 14
        }
      ]
    },
    {
      "cell_type": "code",
      "metadata": {
        "id": "MC1k-zW8DOD4",
        "colab_type": "code",
        "outputId": "383c05cf-2514-4551-df08-e0c5ce5d6630",
        "colab": {
          "base_uri": "https://localhost:8080/",
          "height": 68
        }
      },
      "source": [
        "sess.run(m2)"
      ],
      "execution_count": 0,
      "outputs": [
        {
          "output_type": "execute_result",
          "data": {
            "text/plain": [
              "array([[390],\n",
              "       [890],\n",
              "       [790]], dtype=int32)"
            ]
          },
          "metadata": {
            "tags": []
          },
          "execution_count": 15
        }
      ]
    },
    {
      "cell_type": "code",
      "metadata": {
        "id": "R61XbsHGDN6k",
        "colab_type": "code",
        "colab": {}
      },
      "source": [
        "resut=tf.matmul(m1,m2)"
      ],
      "execution_count": 0,
      "outputs": []
    },
    {
      "cell_type": "code",
      "metadata": {
        "id": "qAtDWDgyEsWh",
        "colab_type": "code",
        "outputId": "87e3cc2b-8494-47b0-d58f-ae3dfa1eb793",
        "colab": {
          "base_uri": "https://localhost:8080/",
          "height": 68
        }
      },
      "source": [
        "sess.run(resut)"
      ],
      "execution_count": 0,
      "outputs": [
        {
          "output_type": "execute_result",
          "data": {
            "text/plain": [
              "array([[ 873500],\n",
              "       [1361000],\n",
              "       [ 884500]], dtype=int32)"
            ]
          },
          "metadata": {
            "tags": []
          },
          "execution_count": 18
        }
      ]
    },
    {
      "cell_type": "code",
      "metadata": {
        "id": "Pu-4n-nwE3Wg",
        "colab_type": "code",
        "colab": {}
      },
      "source": [
        ""
      ],
      "execution_count": 0,
      "outputs": []
    },
    {
      "cell_type": "markdown",
      "metadata": {
        "id": "xBqkGSndE46k",
        "colab_type": "text"
      },
      "source": [
        "**RESHAPE**\n"
      ]
    },
    {
      "cell_type": "code",
      "metadata": {
        "id": "wQsFRhHKE_1c",
        "colab_type": "code",
        "colab": {}
      },
      "source": [
        "x=tf.Variable([50,2,3,10,4,5,6,7])"
      ],
      "execution_count": 0,
      "outputs": []
    },
    {
      "cell_type": "code",
      "metadata": {
        "id": "zt6CbFZ0E3Qe",
        "colab_type": "code",
        "colab": {}
      },
      "source": [
        "y=tf.Variable([[1,2],[3,4],[5,6]])"
      ],
      "execution_count": 0,
      "outputs": []
    },
    {
      "cell_type": "code",
      "metadata": {
        "id": "0VZQe0CDE3JF",
        "colab_type": "code",
        "colab": {}
      },
      "source": [
        "z=tf.Variable([[1,9],[8,2],[8,7]])"
      ],
      "execution_count": 0,
      "outputs": []
    },
    {
      "cell_type": "code",
      "metadata": {
        "id": "orIAyTadE3Bi",
        "colab_type": "code",
        "colab": {}
      },
      "source": [
        "sess=tf.Session()"
      ],
      "execution_count": 0,
      "outputs": []
    },
    {
      "cell_type": "code",
      "metadata": {
        "id": "CyYZ0KOCE25d",
        "colab_type": "code",
        "colab": {}
      },
      "source": [
        "init_op = tf.global_variables_initializer()"
      ],
      "execution_count": 0,
      "outputs": []
    },
    {
      "cell_type": "code",
      "metadata": {
        "id": "ycYzUmljFvsY",
        "colab_type": "code",
        "colab": {}
      },
      "source": [
        "sess.run(init_op)"
      ],
      "execution_count": 0,
      "outputs": []
    },
    {
      "cell_type": "code",
      "metadata": {
        "id": "qrK-HwxUFvnb",
        "colab_type": "code",
        "outputId": "1d1168e5-4ee1-47ea-fcc2-6d843b06afac",
        "colab": {
          "base_uri": "https://localhost:8080/",
          "height": 34
        }
      },
      "source": [
        "sess.run(x)"
      ],
      "execution_count": 0,
      "outputs": [
        {
          "output_type": "execute_result",
          "data": {
            "text/plain": [
              "array([50,  2,  3, 10,  4,  5,  6,  7], dtype=int32)"
            ]
          },
          "metadata": {
            "tags": []
          },
          "execution_count": 26
        }
      ]
    },
    {
      "cell_type": "code",
      "metadata": {
        "id": "n68tgX__Fvg7",
        "colab_type": "code",
        "outputId": "b0c10d4d-8a31-4d10-a2e3-9e88165ba6bf",
        "colab": {
          "base_uri": "https://localhost:8080/",
          "height": 34
        }
      },
      "source": [
        "x.shape"
      ],
      "execution_count": 0,
      "outputs": [
        {
          "output_type": "execute_result",
          "data": {
            "text/plain": [
              "TensorShape([Dimension(8)])"
            ]
          },
          "metadata": {
            "tags": []
          },
          "execution_count": 27
        }
      ]
    },
    {
      "cell_type": "code",
      "metadata": {
        "id": "71mJW_AzFva4",
        "colab_type": "code",
        "outputId": "b227d696-1109-439a-c1b6-a0ee019a3565",
        "colab": {
          "base_uri": "https://localhost:8080/",
          "height": 68
        }
      },
      "source": [
        "sess.run(y)"
      ],
      "execution_count": 0,
      "outputs": [
        {
          "output_type": "execute_result",
          "data": {
            "text/plain": [
              "array([[1, 2],\n",
              "       [3, 4],\n",
              "       [5, 6]], dtype=int32)"
            ]
          },
          "metadata": {
            "tags": []
          },
          "execution_count": 28
        }
      ]
    },
    {
      "cell_type": "code",
      "metadata": {
        "id": "QQHWT_VXGEPO",
        "colab_type": "code",
        "outputId": "c6abf810-86a6-4e28-a256-02f17dbcd3cb",
        "colab": {
          "base_uri": "https://localhost:8080/",
          "height": 34
        }
      },
      "source": [
        "y.shape"
      ],
      "execution_count": 0,
      "outputs": [
        {
          "output_type": "execute_result",
          "data": {
            "text/plain": [
              "TensorShape([Dimension(3), Dimension(2)])"
            ]
          },
          "metadata": {
            "tags": []
          },
          "execution_count": 29
        }
      ]
    },
    {
      "cell_type": "code",
      "metadata": {
        "id": "Y-NY45mgGE7d",
        "colab_type": "code",
        "outputId": "b33e96fe-d835-4e7b-cd9b-0095f5754953",
        "colab": {
          "base_uri": "https://localhost:8080/",
          "height": 51
        }
      },
      "source": [
        "sess.run(tf.reshape(y,[2,3]))"
      ],
      "execution_count": 0,
      "outputs": [
        {
          "output_type": "execute_result",
          "data": {
            "text/plain": [
              "array([[1, 2, 3],\n",
              "       [4, 5, 6]], dtype=int32)"
            ]
          },
          "metadata": {
            "tags": []
          },
          "execution_count": 30
        }
      ]
    },
    {
      "cell_type": "code",
      "metadata": {
        "id": "XWDZiBRJGTgQ",
        "colab_type": "code",
        "outputId": "59f357fd-f842-4558-ea48-62d8d8b17616",
        "colab": {
          "base_uri": "https://localhost:8080/",
          "height": 34
        }
      },
      "source": [
        "#sess.run(tf.reshape(z,[2,3]))\n",
        "sess.run(tf.reshape(z,[1,1,6]))\n",
        "#sess.run(tf.reshape(z,[]))"
      ],
      "execution_count": 0,
      "outputs": [
        {
          "output_type": "execute_result",
          "data": {
            "text/plain": [
              "array([[[1, 9, 8, 2, 8, 7]]], dtype=int32)"
            ]
          },
          "metadata": {
            "tags": []
          },
          "execution_count": 31
        }
      ]
    },
    {
      "cell_type": "code",
      "metadata": {
        "id": "KgFLnuVuGwqN",
        "colab_type": "code",
        "colab": {}
      },
      "source": [
        ""
      ],
      "execution_count": 0,
      "outputs": []
    },
    {
      "cell_type": "markdown",
      "metadata": {
        "id": "0CSemoXbGxIf",
        "colab_type": "text"
      },
      "source": [
        "## **MAX VALUE**"
      ]
    },
    {
      "cell_type": "code",
      "metadata": {
        "id": "FUkZvWjRG1nG",
        "colab_type": "code",
        "outputId": "b1ac17ad-69bc-4c9b-8ce3-22035561897b",
        "colab": {
          "base_uri": "https://localhost:8080/",
          "height": 34
        }
      },
      "source": [
        "sess.run(x)"
      ],
      "execution_count": 0,
      "outputs": [
        {
          "output_type": "execute_result",
          "data": {
            "text/plain": [
              "array([50,  2,  3, 10,  4,  5,  6,  7], dtype=int32)"
            ]
          },
          "metadata": {
            "tags": []
          },
          "execution_count": 32
        }
      ]
    },
    {
      "cell_type": "code",
      "metadata": {
        "id": "_lCacz1DHh57",
        "colab_type": "code",
        "outputId": "137afc32-82bf-4146-d1ea-01c9dff35306",
        "colab": {
          "base_uri": "https://localhost:8080/",
          "height": 34
        }
      },
      "source": [
        "sess.run(tf.argmax(x,axis=0))"
      ],
      "execution_count": 0,
      "outputs": [
        {
          "output_type": "execute_result",
          "data": {
            "text/plain": [
              "0"
            ]
          },
          "metadata": {
            "tags": []
          },
          "execution_count": 33
        }
      ]
    },
    {
      "cell_type": "code",
      "metadata": {
        "id": "cldX_0VWHh0p",
        "colab_type": "code",
        "outputId": "3269277d-db28-42f4-8b91-cc8b08328909",
        "colab": {
          "base_uri": "https://localhost:8080/",
          "height": 68
        }
      },
      "source": [
        "sess.run(z)"
      ],
      "execution_count": 0,
      "outputs": [
        {
          "output_type": "execute_result",
          "data": {
            "text/plain": [
              "array([[1, 9],\n",
              "       [8, 2],\n",
              "       [8, 7]], dtype=int32)"
            ]
          },
          "metadata": {
            "tags": []
          },
          "execution_count": 34
        }
      ]
    },
    {
      "cell_type": "code",
      "metadata": {
        "id": "xUwx7jnXHhuL",
        "colab_type": "code",
        "outputId": "31a0a328-7837-4c1d-a7cc-bec5747c65dd",
        "colab": {
          "base_uri": "https://localhost:8080/",
          "height": 34
        }
      },
      "source": [
        "sess.run(tf.argmax(z,axis=0))"
      ],
      "execution_count": 0,
      "outputs": [
        {
          "output_type": "execute_result",
          "data": {
            "text/plain": [
              "array([1, 0])"
            ]
          },
          "metadata": {
            "tags": []
          },
          "execution_count": 35
        }
      ]
    },
    {
      "cell_type": "code",
      "metadata": {
        "id": "Bd0koFkAH0B-",
        "colab_type": "code",
        "outputId": "5c43898e-6a73-4453-e604-0cb1f97554e6",
        "colab": {
          "base_uri": "https://localhost:8080/",
          "height": 34
        }
      },
      "source": [
        "sess.run(tf.argmax(z,axis=1))"
      ],
      "execution_count": 0,
      "outputs": [
        {
          "output_type": "execute_result",
          "data": {
            "text/plain": [
              "array([1, 0, 0])"
            ]
          },
          "metadata": {
            "tags": []
          },
          "execution_count": 36
        }
      ]
    }
  ]
}
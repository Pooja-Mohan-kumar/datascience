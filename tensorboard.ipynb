{
  "nbformat": 4,
  "nbformat_minor": 0,
  "metadata": {
    "colab": {
      "name": "tensorboard.ipynb",
      "version": "0.3.2",
      "provenance": [],
      "collapsed_sections": []
    },
    "kernelspec": {
      "name": "python3",
      "display_name": "Python 3"
    }
  },
  "cells": [
    {
      "cell_type": "code",
      "metadata": {
        "id": "6zOHplSELhFY",
        "colab_type": "code",
        "colab": {}
      },
      "source": [
        "import tensorflow as tf"
      ],
      "execution_count": 0,
      "outputs": []
    },
    {
      "cell_type": "code",
      "metadata": {
        "id": "7fGHniwpLl4j",
        "colab_type": "code",
        "colab": {}
      },
      "source": [
        "a=tf.constant(10,name=\"a\")\n",
        "b=tf.constant(20,name=\"b\")\n",
        "c=tf.add(a,b,name='c')\n",
        "d=tf.multiply(a,b,name=\"d\")\n",
        "e=tf.multiply(c,d,name=\"e\")\n"
      ],
      "execution_count": 0,
      "outputs": []
    },
    {
      "cell_type": "code",
      "metadata": {
        "id": "g96fQXJILl0V",
        "colab_type": "code",
        "colab": {}
      },
      "source": [
        "sess=tf.Session()"
      ],
      "execution_count": 0,
      "outputs": []
    },
    {
      "cell_type": "code",
      "metadata": {
        "id": "hIm_3CRDLlv3",
        "colab_type": "code",
        "outputId": "435a94b5-81e3-41e0-955a-620458537632",
        "colab": {
          "base_uri": "https://localhost:8080/",
          "height": 34
        }
      },
      "source": [
        "sess.run(c)"
      ],
      "execution_count": 0,
      "outputs": [
        {
          "output_type": "execute_result",
          "data": {
            "text/plain": [
              "30"
            ]
          },
          "metadata": {
            "tags": []
          },
          "execution_count": 4
        }
      ]
    },
    {
      "cell_type": "code",
      "metadata": {
        "id": "c7akp1e_Llqn",
        "colab_type": "code",
        "colab": {}
      },
      "source": [
        "summary_writer=tf.summary.FileWriter('tensb',sess.graph)\n",
        "summary_writer.close()"
      ],
      "execution_count": 0,
      "outputs": []
    },
    {
      "cell_type": "code",
      "metadata": {
        "id": "BSPAYtnVLlmM",
        "colab_type": "code",
        "outputId": "25d7775a-5386-46ab-db48-5ae98313b2e7",
        "colab": {
          "base_uri": "https://localhost:8080/",
          "height": 63
        }
      },
      "source": [
        "!tensorboard --logdir='tensb'"
      ],
      "execution_count": 0,
      "outputs": [
        {
          "output_type": "stream",
          "text": [
            "TensorBoard 1.13.1 at http://11425119971c:6006 (Press CTRL+C to quit)\n"
          ],
          "name": "stdout"
        }
      ]
    },
    {
      "cell_type": "code",
      "metadata": {
        "id": "D4zQNHkrLlfd",
        "colab_type": "code",
        "colab": {}
      },
      "source": [
        ""
      ],
      "execution_count": 0,
      "outputs": []
    }
  ]
}
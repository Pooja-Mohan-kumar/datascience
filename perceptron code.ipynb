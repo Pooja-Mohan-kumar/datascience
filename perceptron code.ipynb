{
 "cells": [
  {
   "cell_type": "code",
   "execution_count": 1,
   "metadata": {},
   "outputs": [],
   "source": [
    "import tensorflow as tf\n"
   ]
  },
  {
   "cell_type": "code",
   "execution_count": 5,
   "metadata": {},
   "outputs": [],
   "source": [
    "#defining the perception\n",
    "#define placeholder for features nd labels\n",
    "\n",
    "x=tf.placeholder(tf.float32,[None,2])  #2 features\n",
    "\n",
    "y = tf.placeholder(tf.float32,[None,1])  #labels"
   ]
  },
  {
   "cell_type": "code",
   "execution_count": 6,
   "metadata": {},
   "outputs": [],
   "source": [
    "#weights and biased\n",
    "\n",
    "weight = tf.Variable(tf.zeros([2,1]))  # here 2 is the features\n",
    "\n",
    "bias = tf.Variable(tf.zeros([1]))  # it represents 1 neuron\n",
    "\n",
    "#input function\n",
    "#I=tf.add(tf.matmul(x,weight),bias)\n",
    "\n",
    "I=tf.add(tf.matmul(x,weight),bias)"
   ]
  },
  {
   "cell_type": "code",
   "execution_count": 8,
   "metadata": {},
   "outputs": [],
   "source": [
    "#activation function\n",
    "output=tf.sigmoid(I)"
   ]
  },
  {
   "cell_type": "code",
   "execution_count": null,
   "metadata": {},
   "outputs": [],
   "source": [
    "# now we need to trin this input function"
   ]
  },
  {
   "cell_type": "code",
   "execution_count": 9,
   "metadata": {},
   "outputs": [],
   "source": [
    "#define the cost/loss func and optimizer\n",
    "#individual neuron is called as perceptrons\n",
    "individual_loss=tf.nn.sigmoid_cross_entropy_with_logits(labels=y,logits=output)\n",
    "loss=tf.reduce_mean(individual_loss)\n",
    "\n",
    "gdo=tf.train.GradientDescentOptimizer(learning_rate=0.01)\n",
    "train=gdo.minimize(loss)"
   ]
  },
  {
   "cell_type": "code",
   "execution_count": 10,
   "metadata": {},
   "outputs": [],
   "source": [
    "#initialize the variables\n",
    "init=tf.global_variables_initializer()"
   ]
  },
  {
   "cell_type": "code",
   "execution_count": 12,
   "metadata": {},
   "outputs": [],
   "source": [
    "sess=tf.Session()\n",
    "sess.run(init)\n",
    "#sess.run(train,feed_dict={x:....,y:....})"
   ]
  }
 ],
 "metadata": {
  "kernelspec": {
   "display_name": "Python 3",
   "language": "python",
   "name": "python3"
  },
  "language_info": {
   "codemirror_mode": {
    "name": "ipython",
    "version": 3
   },
   "file_extension": ".py",
   "mimetype": "text/x-python",
   "name": "python",
   "nbconvert_exporter": "python",
   "pygments_lexer": "ipython3",
   "version": "3.7.1"
  }
 },
 "nbformat": 4,
 "nbformat_minor": 2
}
